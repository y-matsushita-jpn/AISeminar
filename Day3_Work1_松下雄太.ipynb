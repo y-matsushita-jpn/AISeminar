{
 "cells": [
  {
   "cell_type": "markdown",
   "metadata": {},
   "source": [
    "DAY3_課題① Kickstarter Projects  \n",
    "講師からいただいたアドバイスから以下を修正  \n",
    "・RecallとPrecisionの意味を逆にとっていたので説明を修正  \n",
    "・汎化誤差は分類問題ではMAEを使用しない。Accuracyなどを使用して再計測。  \n",
    "\n",
    "DAY2までの残件  \n",
    "・データをヒストグラムや散布図で書いて視覚化する。  \n",
    "・L1正則化を使用してパラメータ数を減らす。  \n",
    "・SVMにて最適解を探す。  \n",
    "・ハイパーパラメータの探索  \n",
    "\n",
    "DAY3で習った以下の内容を反映する。  \n",
    "・特徴選択を適切に実施  \n",
    "・木モデル(決定木、ランダムフォレスト、アダブースト)を適切に利用  \n",
    "・ニューラルネットワークを適切に利用  \n",
    "・DAY2後宿題提出時のモデルと精度を比較  \n",
    "\n",
    "その他  \n",
    "・最初の説明変数を成功率をもとに分類する。  \n",
    "　これによりget_dummiesを使用しないので説明変数が増えない。  \n",
    "  その代わり、最初に学習時の変換テーブルを持って置き、入力データを一回変換する処理が必要となる。  \n",
    "　講師に確認したところOKとのこと。  \n"
   ]
  },
  {
   "cell_type": "markdown",
   "metadata": {},
   "source": [
    "# まとめ"
   ]
  },
  {
   "cell_type": "markdown",
   "metadata": {},
   "source": [
    "### ■DAY1 モデル作成と性能評価\n",
    "データの読み込み  \n",
    "不要そうなパラメータの削除  \n",
    "目的変数のカテゴリを円グラフで確認して成功と失敗のみ抽出（中止なども失敗としてもいい）  \n",
    "目的変数をカテゴリから0,1に置き換え  \n",
    "get_dummiesでカテゴリ変数を数値化、変数の数が一気に増える。  \n",
    "ロジスティック回帰で学習、変数の数が多いため学習に時間がかかる。  \n",
    "性能評価  "
   ]
  },
  {
   "cell_type": "markdown",
   "metadata": {},
   "source": [
    "### ■DAY1 終了時点での予測精度は以下  \n",
    "対数尤度 = -14.240  \n",
    "正答率（Accuracy） = 58.771%  \n",
    "適合率（Precision） = 71.708%  \n",
    "再現率（Recall） = 50.934%  \n",
    "F1値（F1-score） = 59.562%  "
   ]
  },
  {
   "cell_type": "markdown",
   "metadata": {},
   "source": [
    "### ■DAY2 標準化したデータでホールドアウト法  \n",
    "訓練誤差　MAE = 0.354  \n",
    "汎化誤差  MAE = 0.354  \n",
    "訓練誤差と汎化誤差の値に差がないので過学習は起きていない。  \n",
    "↑　分類問題ではMAEは使用しない、Accuracyで計測する。"
   ]
  },
  {
   "cell_type": "markdown",
   "metadata": {},
   "source": [
    "### ■DAY2 標準化のみを行った結果は以下  \n",
    "標準化を行うことで以下のように性能が上がった。  \n",
    "対数尤度 = -14.240　⇒　-12.212  \n",
    "正答率（Accuracy） = 58.771% ⇒ 64.644%  \n",
    "適合率（Precision）= 71.708% ⇒ 66.667%  \n",
    "再現率（Recall） = 50.934% ⇒ 81.378%  \n",
    "F1値（F1-score） = 59.562% ⇒ 73.292%   \n",
    "AccuracyとRecallが上がって、Precisionが少し下がった。  \n",
    "\n",
    "投資目線で考えると  \n",
    "Precision = 投資したプロジェクトの成功率  \n",
    "Recall = 成功するプロジェクトの取りこぼしをしない率   \n",
    "負けない投資をするのであればPrecisionが大きいほうが良い。  \n",
    "ただ、投資金額は一律ではないので、大きい投資額のプロジェクトばかり予測を外していたら損をする。  \n",
    "この辺りはリスク回避で外れ値となるような大きい金額のプロジェクトは失敗と最初から予測するなど必要かもしれない。   成功したプロジェクトのリターン率が高いのであればRecallが大きいほうがいい。\n",
    "\n",
    "資金には限りがあるので、Precisionが大きくなるようにモデルを作成したい。"
   ]
  },
  {
   "cell_type": "markdown",
   "metadata": {},
   "source": [
    "### ■DAY2 残件  \n",
    "L1正則化を使用してパラメータ数を減らす。  \n",
    "SVMにて最適解を探す。  \n",
    "汎化誤差がうまく出ていないのを直す。  "
   ]
  },
  {
   "cell_type": "markdown",
   "metadata": {},
   "source": [
    "## ■DAY3 各検証結果\n",
    "1.特徴選択せず、ロジスティック回帰  \n",
    "  標準化なし  \n",
    "  All parameter Accuracy =  0.5716  \n",
    "  標準化あり  \n",
    "  Standard parameter Accuracy =  0.6675      \n",
    " \n",
    "2.ステップワイズ法による特徴選択(ランダムフォレスト)後に、ロジスティック回帰  \n",
    "　Select parameter Accuracy =  0.646\n",
    "\n",
    "3.LASSOによる特徴選択後に、ロジスティック回帰  \n",
    "　Lasso parameter Accuracy =  0.6582  \n",
    "\n",
    "4.決定木(Descision_tree)の学習結果  \n",
    "  Descision tree Accuracy =  0.6514  \n",
    "\n",
    "5.ランダムフォレスト(Random_Forest)の学習結果  \n",
    "  Random Forest Accuracy =  0.6401  \n",
    "  \n",
    "6.アダブースト（AdaBoost）の学習結果  \n",
    "  AdaBoost Accuracy =  0.6777  \n",
    "  \n",
    "7.ニューラルネットワークの学習結果  \n",
    "　NNModel Accuracy =  [5.800, 0.6401]\n",
    "\n",
    "\n",
    "以上の結果から、6がDAY2の結果より良くなった。  \n",
    "6のアダブーストは計算も早く、特に深く考えなくてもいい成果が出た。  \n",
    "\n",
    "2のステップワイズ法はいろいろなモデルを使って特徴選択ができるので、  \n",
    "ランダムフォレストより精度のいいアダブーストを使用した場合も出してみたかった。  \n"
   ]
  },
  {
   "cell_type": "markdown",
   "metadata": {},
   "source": [
    "## DAY3の内容のみ記述"
   ]
  },
  {
   "cell_type": "code",
   "execution_count": 1,
   "metadata": {},
   "outputs": [],
   "source": [
    "%matplotlib inline\n",
    "import pandas as pd\n",
    "import numpy as np\n",
    "import matplotlib.pyplot as plt\n",
    "import seaborn as sns"
   ]
  },
  {
   "cell_type": "code",
   "execution_count": 2,
   "metadata": {},
   "outputs": [],
   "source": [
    "from sklearn.linear_model import SGDClassifier\n",
    "from sklearn.metrics import log_loss, accuracy_score, confusion_matrix\n",
    "from sklearn.preprocessing import LabelEncoder\n",
    "from sklearn.metrics import mean_squared_error, mean_absolute_error # 回帰問題における性能評価に関する関数\n",
    "from sklearn.metrics import accuracy_score, precision_recall_fscore_support, confusion_matrix # 回帰問題における性能評価に関する関数"
   ]
  },
  {
   "cell_type": "code",
   "execution_count": 3,
   "metadata": {},
   "outputs": [],
   "source": [
    "#正則化用のライブラリ\n",
    "from sklearn.linear_model import LinearRegression #線形回帰のライブラリ\n",
    "from sklearn.linear_model import Ridge,Lasso,ElasticNet #正則化項付き最小二乗法を行うためのライブラリ\n",
    "from sklearn.preprocessing import PolynomialFeatures\n",
    "from sklearn.pipeline import make_pipeline"
   ]
  },
  {
   "cell_type": "code",
   "execution_count": 4,
   "metadata": {},
   "outputs": [],
   "source": [
    "#ホールドアウト法\n",
    "from sklearn.model_selection import train_test_split # ホールドアウト法に関する関数\n",
    "from sklearn.model_selection import KFold # 交差検証法に関する関数\n",
    "from sklearn.metrics import mean_absolute_error # 回帰問題における性能評価に関する関数from IPython.display import display"
   ]
  },
  {
   "cell_type": "code",
   "execution_count": 5,
   "metadata": {},
   "outputs": [],
   "source": [
    "#標準化\n",
    "from IPython.display import display\n",
    "from sklearn.preprocessing import StandardScaler, MinMaxScaler"
   ]
  },
  {
   "cell_type": "code",
   "execution_count": 6,
   "metadata": {},
   "outputs": [],
   "source": [
    "#特徴選択(埋め込み法)\n",
    "from sklearn.feature_selection import SelectFromModel\n",
    "from sklearn.linear_model import LassoCV"
   ]
  },
  {
   "cell_type": "markdown",
   "metadata": {},
   "source": [
    "## 1. データの読み込み\n",
    "課題① Kickstarter Projects"
   ]
  },
  {
   "cell_type": "code",
   "execution_count": 7,
   "metadata": {
    "scrolled": true
   },
   "outputs": [],
   "source": [
    "df_kick = pd.read_csv(\"../../DAY5/4_kadai/kickstarter-projects/ks-projects-201801.csv\")"
   ]
  },
  {
   "cell_type": "markdown",
   "metadata": {},
   "source": [
    "## 読み込んだデータの前処理を関数化"
   ]
  },
  {
   "cell_type": "code",
   "execution_count": 8,
   "metadata": {},
   "outputs": [],
   "source": [
    "def BeforeDataProcess(df_before):\n",
    "    #欠損値のある行を削除\n",
    "    df_before = df_before.dropna(how='any')\n",
    "    \n",
    "    #不要そうな項目を削除\n",
    "    df_before = df_before.drop(\"ID\", axis=1)\n",
    "    df_before = df_before.drop(\"name\", axis=1)\n",
    "    df_before = df_before.drop(\"category\", axis=1)\n",
    "    \n",
    "    #プロジェクトスタート後にわかる説明変数は削除\n",
    "    df_before = df_before.drop(\"pledged\", axis=1)\n",
    "    df_before = df_before.drop(\"backers\", axis=1)\n",
    "    df_before = df_before.drop(\"usd pledged\", axis=1)\n",
    "    df_before = df_before.drop(\"usd_pledged_real\", axis=1)\n",
    "    \n",
    "    #goalとusd_goalは同じ数字を変換しただけのもの。単位がそろっているほうがいいのでgoalは使用しない。\n",
    "    df_before = df_before.drop(\"goal\", axis=1)\n",
    "    \n",
    "    #開始日、終了日から期間を求める。\n",
    "    df_before['deadline'] = pd.to_datetime(df_before['deadline'], errors = 'coerce')\n",
    "    df_before['launched'] = pd.to_datetime(df_before['launched'], errors = 'coerce')\n",
    "    df_before['period'] = (df_before['deadline'] - df_before['launched']).dt.days\n",
    "    \n",
    "    #不要になったdeadlineとlaunchedの列を削除します。\n",
    "    df_before = df_before.drop(['deadline', 'launched'], axis=1)\n",
    "    return df_before"
   ]
  },
  {
   "cell_type": "code",
   "execution_count": 9,
   "metadata": {},
   "outputs": [],
   "source": [
    "df_kick_status = BeforeDataProcess(df_kick)"
   ]
  },
  {
   "cell_type": "markdown",
   "metadata": {},
   "source": [
    "## 共通のホールドアウト法\n",
    "\n",
    "データを分けた後に学習用とテスト用データそれぞれにget_dummieをすると、変数の数が合わなくならないか？"
   ]
  },
  {
   "cell_type": "code",
   "execution_count": 10,
   "metadata": {},
   "outputs": [],
   "source": [
    "df_kick_status = df_kick_status[df_kick_status[\"state\"]!=\"live\"]\n",
    "df_kick_status[\"state\"] = df_kick_status[\"state\"]==\"successful\"\n",
    "\n",
    "#カテゴリデータのダミー数値化\n",
    "df_kick_status = pd.get_dummies(df_kick_status)\n",
    "\n",
    "X = df_kick_status.drop('state', axis=1).values\n",
    "y = df_kick_status[\"state\"].values\n",
    "test_size = 0.2\n",
    "X_train, X_test, y_train, y_test = train_test_split(X, y, test_size=test_size, random_state=1234)"
   ]
  },
  {
   "cell_type": "markdown",
   "metadata": {},
   "source": [
    "## 特徴選択をする前の評価\n",
    "まずはすべての変数でロジスティック回帰モデルで学習した場合のAccuracy"
   ]
  },
  {
   "cell_type": "code",
   "execution_count": 11,
   "metadata": {},
   "outputs": [
    {
     "name": "stdout",
     "output_type": "stream",
     "text": [
      "All parameter Accuracy =  0.5716474271968608\n"
     ]
    }
   ],
   "source": [
    "# 学習用データを使ってロジスティック回帰モデルを学習\n",
    "clf = SGDClassifier(loss='log', penalty='none', max_iter=10000, fit_intercept=True, random_state=1234)\n",
    "clf.fit(X_train, y_train)\n",
    "\n",
    "# 学習用データに対する予測を実行\n",
    "y_pred_test = clf.predict(X_test)\n",
    "\n",
    "# テストデータに対するAccuracyを評価\n",
    "Accuracy_All_parameter =  accuracy_score(y_test, y_pred_test)\n",
    "print(\"All parameter Accuracy = \", Accuracy_All_parameter)"
   ]
  },
  {
   "cell_type": "markdown",
   "metadata": {},
   "source": [
    "標準化あり"
   ]
  },
  {
   "cell_type": "code",
   "execution_count": 23,
   "metadata": {},
   "outputs": [
    {
     "name": "stdout",
     "output_type": "stream",
     "text": [
      "Standard parameter Accuracy =  0.667571526480588\n"
     ]
    }
   ],
   "source": [
    "\n",
    "#標準化\n",
    "stdsc = StandardScaler()\n",
    "X_train_stand = stdsc.fit_transform(X_train)\n",
    "X_test_stand = stdsc.fit_transform(X_test)\n",
    "\n",
    "\n",
    "# 学習用データを使ってロジスティック回帰モデルを学習\n",
    "clf = SGDClassifier(loss='log', penalty='none', max_iter=10000, fit_intercept=True, random_state=1234)\n",
    "clf.fit(X_train_stand, y_train)\n",
    "\n",
    "# 学習用データに対する予測を実行\n",
    "y_pred_test = clf.predict(X_test_stand)\n",
    "\n",
    "# テストデータに対するAccuracyを評価\n",
    "Accuracy_Standard_parameter =  accuracy_score(y_test, y_pred_test)\n",
    "print(\"Standard parameter Accuracy = \", Accuracy_Standard_parameter)"
   ]
  },
  {
   "cell_type": "markdown",
   "metadata": {},
   "source": [
    "## フィルタ法による特徴選択"
   ]
  },
  {
   "cell_type": "code",
   "execution_count": null,
   "metadata": {},
   "outputs": [],
   "source": []
  },
  {
   "cell_type": "code",
   "execution_count": null,
   "metadata": {},
   "outputs": [],
   "source": []
  },
  {
   "cell_type": "markdown",
   "metadata": {},
   "source": [
    "## ステップワイズ法による特徴選択\n",
    "\n",
    "説明変数の数が多かったせいで、処理が終わらなかった。  \n",
    "データ数を少なくするか、変数数を減らしたうえで再実行予定  \n",
    "↑変数を減らす目的の処理が変数が多すぎて終わらない・・・  \n",
    "↑モデルをロジスティック回帰からランダムフォレストに変更してみる  "
   ]
  },
  {
   "cell_type": "code",
   "execution_count": 12,
   "metadata": {
    "scrolled": true
   },
   "outputs": [
    {
     "name": "stdout",
     "output_type": "stream",
     "text": [
      "Feature ranking: \n",
      "[39 28 26 20 16 10 19  8 13  1 14 22  1 35 29 21  1 31  5 42 41 30 43 45\n",
      " 47 49 50 48 46 44 37 40 38 34 27 25  6 18 12  9  3 11 32  2 15 23 33 24\n",
      " 36  7 17  4  1]\n"
     ]
    },
    {
     "data": {
      "image/png": "[encoded data removed]",
      "text/plain": [
       "<matplotlib.figure.Figure at 0x1f79ce348d0>"
      ]
     },
     "metadata": {},
     "output_type": "display_data"
    }
   ],
   "source": [
    "from sklearn.feature_selection import RFECV\n",
    "\n",
    "# RFECVは交差検証によってステップワイズ法による特徴選択を行う\n",
    "# estimatorにランダムフォレストのモデルをセット 処理時間早いモデルを使用\n",
    "# cvにはFold（=グループ）の数，scoringには評価指標を指定する\n",
    "# 今回は分類なのでaccuracyを評価指標に指定\n",
    "from sklearn.ensemble import RandomForestClassifier\n",
    "clf = RandomForestClassifier(n_estimators=10, max_depth=2, criterion=\"gini\",\n",
    "                                                 min_samples_leaf=2, min_samples_split=2, random_state=1234)\n",
    "rfecv = RFECV(estimator=clf, step=1, scoring='accuracy')\n",
    "\n",
    "# fitで特徴選択を実行\n",
    "rfecv.fit(X_train, y_train)\n",
    "\n",
    "# 特徴のランキングを表示（1が最も重要な特徴）\n",
    "print('Feature ranking: \\n{}'.format(rfecv.ranking_))\n",
    "\n",
    "# 特徴数とスコアの変化をプロット\n",
    "# Accuracyが評価基準になっており，値が大きいほど汎化誤差は小さい\n",
    "plt.plot(range(1, len(rfecv.grid_scores_) + 1), rfecv.grid_scores_)\n",
    "plt.show()\n",
    "\n",
    "# rfecv.support_でランキング1位以外はFalseとするindexを取得できる\n",
    "# Trueになっている特徴を使用すれば汎化誤差は最小となる\n",
    "rfecv.support_\n",
    "\n",
    "# bool型の配列に ~ をつけるとTrueとFalseを反転させることができる\n",
    "# ここでTrueになっている特徴が削除してもよい特徴\n",
    "remove_idx = ~rfecv.support_\n",
    "remove_idx\n",
    "\n",
    "# 削除してもよい特徴の名前を取得する\n",
    "remove_feature = pd.DataFrame(X_train).columns[remove_idx]\n",
    "\n",
    "# drop関数で特徴を削除\n",
    "selected_X_train = pd.DataFrame(X_train).drop(remove_feature, axis=1).values"
   ]
  },
  {
   "cell_type": "code",
   "execution_count": 14,
   "metadata": {},
   "outputs": [
    {
     "name": "stdout",
     "output_type": "stream",
     "text": [
      "Select parameter Accuracy =  0.6462714848212006\n"
     ]
    }
   ],
   "source": [
    "# 特徴選択後の学習用データを使ってロジスティック回帰モデルを学習\n",
    "clf_sel = SGDClassifier(loss='log', penalty='none', max_iter=10000, fit_intercept=True, random_state=1234)\n",
    "clf_sel.fit(selected_X_train, y_train)\n",
    "\n",
    "# テスト用データに対する予測を実行\n",
    "# drop関数で特徴を削除\n",
    "selected_X_test = pd.DataFrame(X_test).drop(remove_feature, axis=1).values\n",
    "\n",
    "y_pred_test = clf_sel.predict(selected_X_test)\n",
    "\n",
    "# テストデータに対するAccuracyを評価\n",
    "Accuracy_Select_parameter =  accuracy_score(y_test, y_pred_test)\n",
    "print(\"Select parameter Accuracy = \", Accuracy_Select_parameter)"
   ]
  },
  {
   "cell_type": "markdown",
   "metadata": {},
   "source": [
    "## LASSOによる特徴選択"
   ]
  },
  {
   "cell_type": "code",
   "execution_count": 15,
   "metadata": {},
   "outputs": [],
   "source": [
    "# estimatorにモデルをセット\n",
    "# LassoCVを使って、正則化の強さは自動決定\n",
    "estimator = LassoCV(normalize=True, cv=10)\n",
    "\n",
    "# モデルの情報を使って特徴選択を行う場合は、SelectFromModelを使う\n",
    "# 今回は係数が1e-5以下である特徴を削除する\n",
    "# 係数のしきい値はthresholdで指定する\n",
    "sfm = SelectFromModel(estimator, threshold=1e-5)\n",
    "\n",
    "# fitで特徴選択を実行\n",
    "sfm.fit(X_train, y_train)\n",
    "\n",
    "# 削除すべき特徴の名前を取得 \n",
    "removed_idx  = ~sfm.get_support()\n",
    "#X_train.columns[removed_idx]"
   ]
  },
  {
   "cell_type": "code",
   "execution_count": 16,
   "metadata": {},
   "outputs": [
    {
     "name": "stdout",
     "output_type": "stream",
     "text": [
      "Lasso parameter Accuracy =  0.6582989531399084\n"
     ]
    }
   ],
   "source": [
    "#特徴選択した変数で学習\n",
    "drop_data_train = pd.DataFrame(X_train).drop(pd.DataFrame(X_train).columns[removed_idx], axis=1)\n",
    "X_drop_train = drop_data_train.values\n",
    "\n",
    "clf = SGDClassifier(loss='log', penalty='none', max_iter=10000, fit_intercept=True, random_state=1234)\n",
    "clf.fit(X_drop_train, y_train)\n",
    "\n",
    "# ラベルを予測\n",
    "drop_data_test = pd.DataFrame(X_test).drop(pd.DataFrame(X_test).columns[removed_idx], axis=1)\n",
    "X_drop_test = drop_data_test.values\n",
    "\n",
    "y_test_pred = clf.predict(X_drop_test)\n",
    "\n",
    "# テストデータに対するAccuracyを評価\n",
    "Accuracy_Lasso_parameter =  accuracy_score(y_test, y_test_pred)\n",
    "print(\"Lasso parameter Accuracy = \", Accuracy_Lasso_parameter)"
   ]
  },
  {
   "cell_type": "markdown",
   "metadata": {},
   "source": [
    "## 決定木(Descision_tree)の学習"
   ]
  },
  {
   "cell_type": "code",
   "execution_count": 17,
   "metadata": {},
   "outputs": [
    {
     "name": "stdout",
     "output_type": "stream",
     "text": [
      "score= 0.7536292747497891\n",
      "[ True False False ... False False False]\n",
      "[5.57051400e-01 2.00785690e-01 9.04443023e-03 1.49572270e-02\n",
      " 6.35586069e-03 9.57988317e-03 1.09775295e-02 1.06742666e-02\n",
      " 1.37202913e-02 7.79773178e-03 1.14632749e-02 3.41457217e-03\n",
      " 2.47142107e-02 5.50142771e-03 8.83639743e-03 1.24651132e-02\n",
      " 1.84453578e-02 2.83669707e-03 3.93567764e-03 2.70891927e-04\n",
      " 3.25824360e-04 7.20749649e-03 6.95250527e-03 4.00340818e-04\n",
      " 0.00000000e+00 6.50567015e-04 1.92982463e-04 5.23675856e-04\n",
      " 6.42692338e-04 2.97702528e-04 1.14512861e-02 2.79143513e-04\n",
      " 2.14567140e-03 4.55385433e-04 4.26284412e-03 1.26480091e-04\n",
      " 2.15607153e-03 3.91260755e-04 1.49906818e-03 2.75589608e-03\n",
      " 6.61649652e-03 4.40806322e-04 4.16705785e-04 1.41772760e-03\n",
      " 0.00000000e+00 0.00000000e+00 1.11161429e-03 1.54803995e-03\n",
      " 1.73676645e-04 2.77049275e-04 5.18032814e-04 1.90788932e-04\n",
      " 1.17442363e-02]\n"
     ]
    },
    {
     "data": {
      "image/png": "[encoded data removed]",
      "text/plain": [
       "<matplotlib.figure.Figure at 0x1f79eecd2e8>"
      ]
     },
     "metadata": {},
     "output_type": "display_data"
    },
    {
     "name": "stdout",
     "output_type": "stream",
     "text": [
      "Descision tree Accuracy =  0.6514184349508823\n"
     ]
    }
   ],
   "source": [
    "from sklearn.tree import DecisionTreeClassifier, export_graphviz\n",
    "\n",
    "clf = DecisionTreeClassifier(criterion=\"gini\", max_depth=None, min_samples_split=3, min_samples_leaf=3, random_state=1234)\n",
    "clf = clf.fit(X_train, y_train)\n",
    "print(\"score=\", clf.score(X_train, y_train))\n",
    "\n",
    "print(clf.predict(X_test)) #予測したい場合\n",
    "\n",
    "# 説明変数の重要度を出力する\n",
    "# scikit-learnで算出される重要度は、ある説明変数による不純度の減少量合計である。\n",
    "print(clf.feature_importances_)\n",
    "pd.DataFrame(clf.feature_importances_, index=df_kick_status.drop('state', axis=1).columns).plot.bar(figsize=(7,2))\n",
    "plt.ylabel(\"Importance\")\n",
    "plt.xlabel(\"Features\")\n",
    "plt.show()\n",
    "\n",
    "# テストデータに対するAccuracyを評価\n",
    "Accuracy_Descision_tree = clf.score(X_test, y_test)\n",
    "\n",
    "print(\"Descision tree Accuracy = \", Accuracy_Descision_tree)"
   ]
  },
  {
   "cell_type": "markdown",
   "metadata": {},
   "source": [
    "## ランダムフォレスト(Random_Forest)の学習"
   ]
  },
  {
   "cell_type": "code",
   "execution_count": 18,
   "metadata": {},
   "outputs": [
    {
     "name": "stdout",
     "output_type": "stream",
     "text": [
      "score= 0.6402742827961794\n",
      "[2.59419224e-01 1.68218345e-01 1.56588323e-02 3.44843707e-02\n",
      " 2.90839897e-02 6.81200247e-02 0.00000000e+00 4.85275199e-02\n",
      " 0.00000000e+00 4.84889502e-02 0.00000000e+00 0.00000000e+00\n",
      " 2.71958901e-02 0.00000000e+00 0.00000000e+00 9.41799061e-04\n",
      " 9.81967265e-02 0.00000000e+00 0.00000000e+00 0.00000000e+00\n",
      " 0.00000000e+00 1.46635981e-01 0.00000000e+00 0.00000000e+00\n",
      " 0.00000000e+00 0.00000000e+00 0.00000000e+00 0.00000000e+00\n",
      " 2.21975788e-04 3.64532518e-05 0.00000000e+00 0.00000000e+00\n",
      " 0.00000000e+00 0.00000000e+00 0.00000000e+00 0.00000000e+00\n",
      " 0.00000000e+00 0.00000000e+00 0.00000000e+00 0.00000000e+00\n",
      " 0.00000000e+00 0.00000000e+00 0.00000000e+00 0.00000000e+00\n",
      " 0.00000000e+00 0.00000000e+00 0.00000000e+00 4.62881733e-04\n",
      " 0.00000000e+00 0.00000000e+00 0.00000000e+00 0.00000000e+00\n",
      " 5.43070355e-02]\n"
     ]
    },
    {
     "data": {
      "image/png": "[encoded data removed]",
      "text/plain": [
       "<matplotlib.figure.Figure at 0x1f79f54e518>"
      ]
     },
     "metadata": {},
     "output_type": "display_data"
    },
    {
     "name": "stdout",
     "output_type": "stream",
     "text": [
      "Random Forest Accuracy =  0.6401300847970113\n"
     ]
    }
   ],
   "source": [
    "from sklearn.ensemble import RandomForestClassifier\n",
    "\n",
    "clf = RandomForestClassifier(n_estimators=10, max_depth=2, criterion=\"gini\",\n",
    "                                                 min_samples_leaf=2, min_samples_split=2, random_state=1234)\n",
    "clf.fit(X_train, y_train)\n",
    "print(\"score=\", clf.score(X_train, y_train))\n",
    "\n",
    "# 説明変数の重要度を出力する\n",
    "# scikit-learnで算出される重要度は、ある説明変数による不純度の減少量合計である。\n",
    "print(clf.feature_importances_)\n",
    "pd.DataFrame(clf.feature_importances_, index=df_kick_status.drop('state', axis=1).columns).plot.bar(figsize=(7,2))\n",
    "plt.ylabel(\"Importance\")\n",
    "plt.xlabel(\"Features\")\n",
    "plt.show()\n",
    "\n",
    "# テストデータに対するAccuracyを評価\n",
    "Accuracy_random_forest = clf.score(X_test, y_test)\n",
    "\n",
    "print(\"Random Forest Accuracy = \", Accuracy_random_forest)"
   ]
  },
  {
   "cell_type": "markdown",
   "metadata": {},
   "source": [
    "## アダブースト（AdaBoost）の学習"
   ]
  },
  {
   "cell_type": "code",
   "execution_count": 19,
   "metadata": {},
   "outputs": [
    {
     "name": "stdout",
     "output_type": "stream",
     "text": [
      "score= 0.6804726372337888\n",
      "[0.30864543 0.20465845 0.         0.03175855 0.02714451 0.02667024\n",
      " 0.0034019  0.03087173 0.01092378 0.03908745 0.03479659 0.02835861\n",
      " 0.02277159 0.01505411 0.02073508 0.02639149 0.09034709 0.\n",
      " 0.         0.         0.         0.         0.         0.\n",
      " 0.         0.         0.         0.         0.         0.\n",
      " 0.02679792 0.         0.         0.         0.         0.\n",
      " 0.         0.0010218  0.         0.01783682 0.01397776 0.\n",
      " 0.         0.01807849 0.         0.         0.         0.\n",
      " 0.         0.         0.         0.         0.00067062]\n"
     ]
    },
    {
     "data": {
      "image/png": "[encoded data removed]",
      "text/plain": [
       "<matplotlib.figure.Figure at 0x1f79f61e390>"
      ]
     },
     "metadata": {},
     "output_type": "display_data"
    },
    {
     "name": "stdout",
     "output_type": "stream",
     "text": [
      "AdaBoost Accuracy =  0.6777713571553358\n"
     ]
    }
   ],
   "source": [
    "from sklearn.ensemble import AdaBoostClassifier\n",
    "from sklearn.tree import DecisionTreeClassifier\n",
    "\n",
    "clf = AdaBoostClassifier(DecisionTreeClassifier(max_depth=3,\n",
    "                                                                                 min_samples_leaf=2,\n",
    "                                                                                 min_samples_split=2, \n",
    "                                                                                 random_state=1234,\n",
    "                                                                                 criterion=\"gini\"),\n",
    "                                           n_estimators=10, random_state=1234)\n",
    "clf.fit(X_train, y_train)\n",
    "print(\"score=\", clf.score(X_train, y_train))\n",
    "\n",
    "# 説明変数の重要度を出力する\n",
    "# scikit-learnで算出される重要度は、ある説明変数による不純度の減少量合計である。\n",
    "print(clf.feature_importances_)\n",
    "pd.DataFrame(clf.feature_importances_, index=df_kick_status.drop('state', axis=1).columns).plot.bar(figsize=(7,2))\n",
    "plt.ylabel(\"Importance\")\n",
    "plt.xlabel(\"Features\")\n",
    "plt.show()\n",
    "\n",
    "# テストデータに対するAccuracyを評価\n",
    "Accuracy_AdaBoost = clf.score(X_test, y_test)\n",
    "\n",
    "print(\"AdaBoost Accuracy = \", Accuracy_AdaBoost)"
   ]
  },
  {
   "cell_type": "markdown",
   "metadata": {},
   "source": [
    "## ニューラルネットワークの学習\n",
    "kerasで解く"
   ]
  },
  {
   "cell_type": "code",
   "execution_count": 20,
   "metadata": {},
   "outputs": [
    {
     "name": "stderr",
     "output_type": "stream",
     "text": [
      "C:\\Users\\mat\\Anaconda3\\lib\\site-packages\\h5py\\__init__.py:36: FutureWarning: Conversion of the second argument of issubdtype from `float` to `np.floating` is deprecated. In future, it will be treated as `np.float64 == np.dtype(float).type`.\n",
      "  from ._conv import register_converters as _register_converters\n",
      "Using TensorFlow backend.\n"
     ]
    }
   ],
   "source": [
    "import keras\n",
    "from keras.models import Sequential\n",
    "from keras.layers import Dense, Dropout, Activation\n",
    "from keras.optimizers import SGD,RMSprop, Adagrad, Adadelta, Adam\n",
    "\n",
    "model = Sequential()\n",
    "model.add(Dense(6, activation='relu', input_dim=53))\n",
    "model.add(Dense(5, activation='relu', input_dim=6))\n",
    "model.add(Dense(2, activation='softmax'))#最終層のactivationは変更しないこと\n",
    "\n",
    "# ------ 最適化手法 ------\n",
    "sgd = SGD(lr=0.01, momentum=0.9, nesterov=False)\n",
    "# rms = RMSprop(lr=0.01)\n",
    "# adag = Adagrad(lr=0.01)\n",
    "# adad = Adadelta(lr=0.01)\n",
    "# adam = Adam(lr=0.01)\n",
    "# -----------------------------\n",
    "\n",
    "model.compile(loss='categorical_crossentropy',\n",
    "              optimizer=sgd,\n",
    "              metrics=['accuracy'])"
   ]
  },
  {
   "cell_type": "code",
   "execution_count": 21,
   "metadata": {},
   "outputs": [
    {
     "name": "stdout",
     "output_type": "stream",
     "text": [
      "Train on 297649 samples, validate on 74413 samples\n",
      "Epoch 1/50\n",
      "297649/297649 [==============================] - 11s 38us/step - loss: 5.7976 - acc: 0.6403 - val_loss: 5.8004 - val_acc: 0.6401\n",
      "Epoch 2/50\n",
      "297649/297649 [==============================] - 11s 38us/step - loss: 5.7981 - acc: 0.6403 - val_loss: 5.8004 - val_acc: 0.6401\n",
      "Epoch 3/50\n",
      "297649/297649 [==============================] - 11s 37us/step - loss: 5.7981 - acc: 0.6403 - val_loss: 5.8004 - val_acc: 0.6401\n",
      "Epoch 4/50\n",
      "297649/297649 [==============================] - 11s 38us/step - loss: 5.7981 - acc: 0.6403 - val_loss: 5.8004 - val_acc: 0.6401\n",
      "Epoch 5/50\n",
      "297649/297649 [==============================] - 11s 37us/step - loss: 5.7981 - acc: 0.6403 - val_loss: 5.8004 - val_acc: 0.6401\n",
      "Epoch 6/50\n",
      "297649/297649 [==============================] - 11s 38us/step - loss: 5.7981 - acc: 0.6403 - val_loss: 5.8004 - val_acc: 0.6401\n",
      "Epoch 7/50\n",
      "297649/297649 [==============================] - 11s 38us/step - loss: 5.7981 - acc: 0.6403 - val_loss: 5.8004 - val_acc: 0.6401\n",
      "Epoch 8/50\n",
      "297649/297649 [==============================] - 11s 37us/step - loss: 5.7981 - acc: 0.6403 - val_loss: 5.8004 - val_acc: 0.6401\n",
      "Epoch 9/50\n",
      "297649/297649 [==============================] - 11s 37us/step - loss: 5.7981 - acc: 0.6403 - val_loss: 5.8004 - val_acc: 0.6401\n",
      "Epoch 10/50\n",
      "297649/297649 [==============================] - 11s 37us/step - loss: 5.7981 - acc: 0.6403 - val_loss: 5.8004 - val_acc: 0.6401\n",
      "Epoch 11/50\n",
      "297649/297649 [==============================] - 11s 37us/step - loss: 5.7981 - acc: 0.6403 - val_loss: 5.8004 - val_acc: 0.6401\n",
      "Epoch 12/50\n",
      "297649/297649 [==============================] - 11s 37us/step - loss: 5.7981 - acc: 0.6403 - val_loss: 5.8004 - val_acc: 0.6401\n",
      "Epoch 13/50\n",
      "297649/297649 [==============================] - 11s 38us/step - loss: 5.7981 - acc: 0.6403 - val_loss: 5.8004 - val_acc: 0.6401\n",
      "Epoch 14/50\n",
      "297649/297649 [==============================] - 11s 37us/step - loss: 5.7981 - acc: 0.6403 - val_loss: 5.8004 - val_acc: 0.6401\n",
      "Epoch 15/50\n",
      "297649/297649 [==============================] - 11s 38us/step - loss: 5.7981 - acc: 0.6403 - val_loss: 5.8004 - val_acc: 0.6401\n",
      "Epoch 16/50\n",
      "297649/297649 [==============================] - 11s 37us/step - loss: 5.7981 - acc: 0.6403 - val_loss: 5.8004 - val_acc: 0.6401\n",
      "Epoch 17/50\n",
      "297649/297649 [==============================] - 11s 37us/step - loss: 5.7981 - acc: 0.6403 - val_loss: 5.8004 - val_acc: 0.6401\n",
      "Epoch 18/50\n",
      "297649/297649 [==============================] - 11s 38us/step - loss: 5.7981 - acc: 0.6403 - val_loss: 5.8004 - val_acc: 0.6401\n",
      "Epoch 19/50\n",
      "297649/297649 [==============================] - 11s 37us/step - loss: 5.7981 - acc: 0.6403 - val_loss: 5.8004 - val_acc: 0.6401\n",
      "Epoch 20/50\n",
      "297649/297649 [==============================] - 11s 37us/step - loss: 5.7981 - acc: 0.6403 - val_loss: 5.8004 - val_acc: 0.6401\n",
      "Epoch 21/50\n",
      "297649/297649 [==============================] - 11s 37us/step - loss: 5.7981 - acc: 0.6403 - val_loss: 5.8004 - val_acc: 0.6401\n",
      "Epoch 22/50\n",
      "297649/297649 [==============================] - 11s 37us/step - loss: 5.7981 - acc: 0.6403 - val_loss: 5.8004 - val_acc: 0.6401\n",
      "Epoch 23/50\n",
      "297649/297649 [==============================] - 11s 37us/step - loss: 5.7981 - acc: 0.6403 - val_loss: 5.8004 - val_acc: 0.6401\n",
      "Epoch 24/50\n",
      "297649/297649 [==============================] - 11s 37us/step - loss: 5.7981 - acc: 0.6403 - val_loss: 5.8004 - val_acc: 0.6401\n",
      "Epoch 25/50\n",
      "297649/297649 [==============================] - 11s 38us/step - loss: 5.7981 - acc: 0.6403 - val_loss: 5.8004 - val_acc: 0.6401\n",
      "Epoch 26/50\n",
      "297649/297649 [==============================] - 11s 38us/step - loss: 5.7981 - acc: 0.6403 - val_loss: 5.8004 - val_acc: 0.6401\n",
      "Epoch 27/50\n",
      "297649/297649 [==============================] - 11s 37us/step - loss: 5.7981 - acc: 0.6403 - val_loss: 5.8004 - val_acc: 0.6401\n",
      "Epoch 28/50\n",
      "297649/297649 [==============================] - 11s 37us/step - loss: 5.7981 - acc: 0.6403 - val_loss: 5.8004 - val_acc: 0.6401\n",
      "Epoch 29/50\n",
      "297649/297649 [==============================] - 11s 38us/step - loss: 5.7981 - acc: 0.6403 - val_loss: 5.8004 - val_acc: 0.6401\n",
      "Epoch 30/50\n",
      "297649/297649 [==============================] - 11s 37us/step - loss: 5.7981 - acc: 0.6403 - val_loss: 5.8004 - val_acc: 0.6401\n",
      "Epoch 31/50\n",
      "297649/297649 [==============================] - 11s 38us/step - loss: 5.7981 - acc: 0.6403 - val_loss: 5.8004 - val_acc: 0.6401\n",
      "Epoch 32/50\n",
      "297649/297649 [==============================] - 11s 37us/step - loss: 5.7981 - acc: 0.6403 - val_loss: 5.8004 - val_acc: 0.6401\n",
      "Epoch 33/50\n",
      "297649/297649 [==============================] - 11s 37us/step - loss: 5.7981 - acc: 0.6403 - val_loss: 5.8004 - val_acc: 0.6401\n",
      "Epoch 34/50\n",
      "297649/297649 [==============================] - 11s 37us/step - loss: 5.7981 - acc: 0.6403 - val_loss: 5.8004 - val_acc: 0.6401\n",
      "Epoch 35/50\n",
      "297649/297649 [==============================] - 11s 38us/step - loss: 5.7981 - acc: 0.6403 - val_loss: 5.8004 - val_acc: 0.6401\n",
      "Epoch 36/50\n",
      "297649/297649 [==============================] - 11s 38us/step - loss: 5.7981 - acc: 0.6403 - val_loss: 5.8004 - val_acc: 0.6401\n",
      "Epoch 37/50\n",
      "297649/297649 [==============================] - 11s 38us/step - loss: 5.7981 - acc: 0.6403 - val_loss: 5.8004 - val_acc: 0.6401\n",
      "Epoch 38/50\n",
      "297649/297649 [==============================] - 11s 37us/step - loss: 5.7981 - acc: 0.6403 - val_loss: 5.8004 - val_acc: 0.6401\n",
      "Epoch 39/50\n",
      "297649/297649 [==============================] - 11s 37us/step - loss: 5.7981 - acc: 0.6403 - val_loss: 5.8004 - val_acc: 0.6401\n",
      "Epoch 40/50\n",
      "297649/297649 [==============================] - 11s 38us/step - loss: 5.7981 - acc: 0.6403 - val_loss: 5.8004 - val_acc: 0.6401\n",
      "Epoch 41/50\n",
      "297649/297649 [==============================] - 11s 37us/step - loss: 5.7981 - acc: 0.6403 - val_loss: 5.8004 - val_acc: 0.6401\n",
      "Epoch 42/50\n",
      "297649/297649 [==============================] - 11s 38us/step - loss: 5.7981 - acc: 0.6403 - val_loss: 5.8004 - val_acc: 0.6401\n",
      "Epoch 43/50\n",
      "297649/297649 [==============================] - 11s 37us/step - loss: 5.7981 - acc: 0.6403 - val_loss: 5.8004 - val_acc: 0.6401\n",
      "Epoch 44/50\n",
      "297649/297649 [==============================] - 11s 38us/step - loss: 5.7981 - acc: 0.6403 - val_loss: 5.8004 - val_acc: 0.6401\n",
      "Epoch 45/50\n",
      "297649/297649 [==============================] - 11s 37us/step - loss: 5.7981 - acc: 0.6403 - val_loss: 5.8004 - val_acc: 0.6401\n",
      "Epoch 46/50\n",
      "297649/297649 [==============================] - 11s 37us/step - loss: 5.7981 - acc: 0.6403 - val_loss: 5.8004 - val_acc: 0.6401\n",
      "Epoch 47/50\n",
      "297649/297649 [==============================] - 11s 38us/step - loss: 5.7981 - acc: 0.6403 - val_loss: 5.8004 - val_acc: 0.6401\n",
      "Epoch 48/50\n",
      "297649/297649 [==============================] - 11s 38us/step - loss: 5.7981 - acc: 0.6403 - val_loss: 5.8004 - val_acc: 0.6401\n",
      "Epoch 49/50\n",
      "297649/297649 [==============================] - 11s 37us/step - loss: 5.7981 - acc: 0.6403 - val_loss: 5.8004 - val_acc: 0.6401\n",
      "Epoch 50/50\n",
      "297649/297649 [==============================] - 11s 37us/step - loss: 5.7981 - acc: 0.6403 - val_loss: 5.8004 - val_acc: 0.6401\n",
      "NNModel Accuracy =  [5.800417661279187, 0.6401300848018172]\n"
     ]
    },
    {
     "data": {
      "image/png": "[encoded data removed]",
      "text/plain": [
       "<matplotlib.figure.Figure at 0x1f79f97ceb8>"
      ]
     },
     "metadata": {},
     "output_type": "display_data"
    },
    {
     "data": {
      "image/png": "[encoded data removed]",
      "text/plain": [
       "<matplotlib.figure.Figure at 0x1f7aba77400>"
      ]
     },
     "metadata": {},
     "output_type": "display_data"
    }
   ],
   "source": [
    "#計測開始\n",
    "#startTime = time.time()\n",
    "\n",
    "# one-hotベクトルに変換\n",
    "from keras.utils import np_utils\n",
    "y_train_one = np_utils.to_categorical(y_train)\n",
    "y_test_one = np_utils.to_categorical(y_test)\n",
    "\n",
    "# 計算の実行\n",
    "fit = model.fit(X_train, y_train_one,\n",
    "          epochs=50,\n",
    "          batch_size=20,validation_data=(X_test, y_test_one))\n",
    "\n",
    "# テストデータに対するAccuracyを評価\n",
    "Accuracy_NNModel = model.evaluate(X_test, y_test_one, verbose=0)\n",
    "print(\"NNModel Accuracy = \", Accuracy_NNModel)\n",
    "\n",
    "#処理にかかった時間\n",
    "#print(\"time:{0:.3f}sec\".format(time.time() - startTime))\n",
    "\n",
    "# 各epochにおける損失と精度をdfに入れる\n",
    "df = pd.DataFrame(fit.history)\n",
    "\n",
    "# グラフ化\n",
    "df[[\"loss\", \"val_loss\"]].plot()\n",
    "plt.ylabel(\"loss\")\n",
    "plt.xlabel(\"epoch\")\n",
    "plt.show()\n",
    "\n",
    "df[[\"acc\", \"val_acc\"]].plot()\n",
    "plt.ylabel(\"acc\")\n",
    "plt.xlabel(\"epoch\")\n",
    "plt.ylim([0,1.0])\n",
    "plt.show()"
   ]
  },
  {
   "cell_type": "code",
   "execution_count": null,
   "metadata": {},
   "outputs": [],
   "source": []
  },
  {
   "cell_type": "code",
   "execution_count": null,
   "metadata": {},
   "outputs": [],
   "source": []
  },
  {
   "cell_type": "code",
   "execution_count": null,
   "metadata": {},
   "outputs": [],
   "source": []
  },
  {
   "cell_type": "code",
   "execution_count": null,
   "metadata": {},
   "outputs": [],
   "source": []
  },
  {
   "cell_type": "code",
   "execution_count": null,
   "metadata": {},
   "outputs": [],
   "source": []
  }
 ],
 "metadata": {
  "kernelspec": {
   "display_name": "Python 3",
   "language": "python",
   "name": "python3"
  },
  "language_info": {
   "codemirror_mode": {
    "name": "ipython",
    "version": 3
   },
   "file_extension": ".py",
   "mimetype": "text/x-python",
   "name": "python",
   "nbconvert_exporter": "python",
   "pygments_lexer": "ipython3",
   "version": "3.6.4"
  }
 },
 "nbformat": 4,
 "nbformat_minor": 2
}
