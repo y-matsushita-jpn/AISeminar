{
 "cells": [
  {
   "cell_type": "markdown",
   "metadata": {},
   "source": [
    "DAY2_課題① Kickstarter Projects  \n",
    "講師からいただいたアドバイスから以下を修正  \n",
    "・カテゴリ変数をlabelEncorderを使用しているのをget_dummiesに変更  \n",
    "・usd_goal_realは使用できる。  \n",
    "\n",
    "DAY2で習った以下の内容を反映する。  \n",
    "・ホールドアウト法を行い、現状の学習誤差、汎化誤差を求める。  \n",
    "・過学習をしているか確認、している場合正則化  \n",
    "・正規化、標準化、無相関化、白色化を行う。  \n",
    "・ハイパーパラメータの探索を行う  \n",
    "・DAY1後宿題提出時の精度と比較して性能が上がっているか確認  "
   ]
  },
  {
   "cell_type": "markdown",
   "metadata": {},
   "source": [
    "# まとめ"
   ]
  },
  {
   "cell_type": "markdown",
   "metadata": {},
   "source": [
    "### ■DAY1 モデル作成と性能評価\n",
    "データの読み込み  \n",
    "不要そうなパラメータの削除  \n",
    "目的変数のカテゴリを円グラフで確認して成功と失敗のみ抽出（中止なども失敗としてもいい）  \n",
    "目的変数をカテゴリから0,1に置き換え  \n",
    "get_dummiesでカテゴリ変数を数値化、変数の数が一気に増える。  \n",
    "ロジスティック回帰で学習、変数の数が多いため学習に時間がかかる。  \n",
    "性能評価  "
   ]
  },
  {
   "cell_type": "markdown",
   "metadata": {},
   "source": [
    "### ■DAY1 終了時点での予測精度は以下  \n",
    "対数尤度 = -14.240  \n",
    "正答率（Accuracy） = 58.771%  \n",
    "適合率（Precision） = 71.708%  \n",
    "再現率（Recall） = 50.934%  \n",
    "F1値（F1-score） = 59.562%  "
   ]
  },
  {
   "cell_type": "markdown",
   "metadata": {},
   "source": [
    "### ■DAY2 標準化したデータでホールドアウト法  \n",
    "訓練誤差　MAE = 0.354  \n",
    "汎化誤差  MAE = 0.354  \n",
    "訓練誤差と汎化誤差の値に差がないので過学習は起きていない。  \n",
    "↑　結果が良すぎる。何か間違えている。"
   ]
  },
  {
   "cell_type": "markdown",
   "metadata": {},
   "source": [
    "### ■DAY2 標準化のみを行った結果は以下  \n",
    "標準化を行うことで以下のように性能が上がった。  \n",
    "対数尤度 = -14.240　⇒　-12.212  \n",
    "正答率（Accuracy） = 58.771% ⇒ 64.644%  \n",
    "適合率（Precision）= 71.708% ⇒ 66.667%  \n",
    "再現率（Recall） = 50.934% ⇒ 81.378%  \n",
    "F1値（F1-score） = 59.562% ⇒ 73.292%   \n",
    "AccuracyとRecallが上がって、Precisionが少し下がった。  \n",
    "\n",
    "投資目線で考えると  \n",
    "Precision = 成功するプロジェクトの取りこぼしをしない率  \n",
    "Recall = 投資したプロジェクトの成功率   \n",
    "負けない投資をするのであればRecallが大きいほうが良い。  \n",
    "ただ、投資金額は一律ではないので、大きい投資額のプロジェクトばかり予測を外していたら損をする。  \n",
    "この辺りはリスク回避で外れ値となるような大きい金額のプロジェクトは失敗と最初から予測するなど必要かもしれない。   "
   ]
  },
  {
   "cell_type": "markdown",
   "metadata": {},
   "source": [
    "### ■DAY2 残件  \n",
    "L1正則化を使用してパラメータ数を減らす。  \n",
    "SVMにて最適解を探す。  \n",
    "汎化誤差がうまく出ていないのを直す。  "
   ]
  },
  {
   "cell_type": "markdown",
   "metadata": {},
   "source": [
    "## ↓ ここからDAY1の内容"
   ]
  },
  {
   "cell_type": "code",
   "execution_count": 1,
   "metadata": {},
   "outputs": [],
   "source": [
    "%matplotlib inline\n",
    "import pandas as pd\n",
    "import numpy as np\n",
    "import matplotlib.pyplot as plt\n",
    "import seaborn as sns"
   ]
  },
  {
   "cell_type": "code",
   "execution_count": 2,
   "metadata": {},
   "outputs": [],
   "source": [
    "from sklearn.linear_model import SGDClassifier\n",
    "from sklearn.metrics import log_loss, accuracy_score, confusion_matrix\n",
    "from sklearn.preprocessing import LabelEncoder\n",
    "from sklearn.metrics import mean_squared_error, mean_absolute_error # 回帰問題における性能評価に関する関数\n",
    "from sklearn.metrics import accuracy_score, precision_recall_fscore_support, confusion_matrix # 回帰問題における性能評価に関する関数"
   ]
  },
  {
   "cell_type": "code",
   "execution_count": 3,
   "metadata": {},
   "outputs": [],
   "source": [
    "#正則化用のライブラリ\n",
    "from sklearn.linear_model import LinearRegression #線形回帰のライブラリ\n",
    "from sklearn.linear_model import Ridge,Lasso,ElasticNet #正則化項付き最小二乗法を行うためのライブラリ\n",
    "from sklearn.preprocessing import PolynomialFeatures\n",
    "from sklearn.pipeline import make_pipeline"
   ]
  },
  {
   "cell_type": "code",
   "execution_count": 4,
   "metadata": {},
   "outputs": [],
   "source": [
    "#ホールドアウト法\n",
    "from sklearn.model_selection import train_test_split # ホールドアウト法に関する関数\n",
    "from sklearn.model_selection import KFold # 交差検証法に関する関数\n",
    "from sklearn.metrics import mean_absolute_error # 回帰問題における性能評価に関する関数from IPython.display import display"
   ]
  },
  {
   "cell_type": "code",
   "execution_count": 5,
   "metadata": {},
   "outputs": [],
   "source": [
    "#標準化\n",
    "from IPython.display import display\n",
    "from sklearn.preprocessing import StandardScaler, MinMaxScaler"
   ]
  },
  {
   "cell_type": "markdown",
   "metadata": {},
   "source": [
    "### 1. データの読み込み\n",
    "課題① Kickstarter Projects"
   ]
  },
  {
   "cell_type": "code",
   "execution_count": 6,
   "metadata": {
    "scrolled": true
   },
   "outputs": [
    {
     "data": {
      "text/html": [
       "<div>\n",
       "<style scoped>\n",
       "    .dataframe tbody tr th:only-of-type {\n",
       "        vertical-align: middle;\n",
       "    }\n",
       "\n",
       "    .dataframe tbody tr th {\n",
       "        vertical-align: top;\n",
       "    }\n",
       "\n",
       "    .dataframe thead th {\n",
       "        text-align: right;\n",
       "    }\n",
       "</style>\n",
       "<table border=\"1\" class=\"dataframe\">\n",
       "  <thead>\n",
       "    <tr style=\"text-align: right;\">\n",
       "      <th></th>\n",
       "      <th>ID</th>\n",
       "      <th>name</th>\n",
       "      <th>category</th>\n",
       "      <th>main_category</th>\n",
       "      <th>currency</th>\n",
       "      <th>deadline</th>\n",
       "      <th>goal</th>\n",
       "      <th>launched</th>\n",
       "      <th>pledged</th>\n",
       "      <th>state</th>\n",
       "      <th>backers</th>\n",
       "      <th>country</th>\n",
       "      <th>usd pledged</th>\n",
       "      <th>usd_pledged_real</th>\n",
       "      <th>usd_goal_real</th>\n",
       "    </tr>\n",
       "  </thead>\n",
       "  <tbody>\n",
       "    <tr>\n",
       "      <th>0</th>\n",
       "      <td>1000002330</td>\n",
       "      <td>The Songs of Adelaide &amp; Abullah</td>\n",
       "      <td>Poetry</td>\n",
       "      <td>Publishing</td>\n",
       "      <td>GBP</td>\n",
       "      <td>2015-10-09</td>\n",
       "      <td>1000.0</td>\n",
       "      <td>2015-08-11 12:12:28</td>\n",
       "      <td>0.0</td>\n",
       "      <td>failed</td>\n",
       "      <td>0</td>\n",
       "      <td>GB</td>\n",
       "      <td>0.0</td>\n",
       "      <td>0.0</td>\n",
       "      <td>1533.95</td>\n",
       "    </tr>\n",
       "    <tr>\n",
       "      <th>1</th>\n",
       "      <td>1000003930</td>\n",
       "      <td>Greeting From Earth: ZGAC Arts Capsule For ET</td>\n",
       "      <td>Narrative Film</td>\n",
       "      <td>Film &amp; Video</td>\n",
       "      <td>USD</td>\n",
       "      <td>2017-11-01</td>\n",
       "      <td>30000.0</td>\n",
       "      <td>2017-09-02 04:43:57</td>\n",
       "      <td>2421.0</td>\n",
       "      <td>failed</td>\n",
       "      <td>15</td>\n",
       "      <td>US</td>\n",
       "      <td>100.0</td>\n",
       "      <td>2421.0</td>\n",
       "      <td>30000.00</td>\n",
       "    </tr>\n",
       "    <tr>\n",
       "      <th>2</th>\n",
       "      <td>1000004038</td>\n",
       "      <td>Where is Hank?</td>\n",
       "      <td>Narrative Film</td>\n",
       "      <td>Film &amp; Video</td>\n",
       "      <td>USD</td>\n",
       "      <td>2013-02-26</td>\n",
       "      <td>45000.0</td>\n",
       "      <td>2013-01-12 00:20:50</td>\n",
       "      <td>220.0</td>\n",
       "      <td>failed</td>\n",
       "      <td>3</td>\n",
       "      <td>US</td>\n",
       "      <td>220.0</td>\n",
       "      <td>220.0</td>\n",
       "      <td>45000.00</td>\n",
       "    </tr>\n",
       "    <tr>\n",
       "      <th>3</th>\n",
       "      <td>1000007540</td>\n",
       "      <td>ToshiCapital Rekordz Needs Help to Complete Album</td>\n",
       "      <td>Music</td>\n",
       "      <td>Music</td>\n",
       "      <td>USD</td>\n",
       "      <td>2012-04-16</td>\n",
       "      <td>5000.0</td>\n",
       "      <td>2012-03-17 03:24:11</td>\n",
       "      <td>1.0</td>\n",
       "      <td>failed</td>\n",
       "      <td>1</td>\n",
       "      <td>US</td>\n",
       "      <td>1.0</td>\n",
       "      <td>1.0</td>\n",
       "      <td>5000.00</td>\n",
       "    </tr>\n",
       "    <tr>\n",
       "      <th>4</th>\n",
       "      <td>1000011046</td>\n",
       "      <td>Community Film Project: The Art of Neighborhoo...</td>\n",
       "      <td>Film &amp; Video</td>\n",
       "      <td>Film &amp; Video</td>\n",
       "      <td>USD</td>\n",
       "      <td>2015-08-29</td>\n",
       "      <td>19500.0</td>\n",
       "      <td>2015-07-04 08:35:03</td>\n",
       "      <td>1283.0</td>\n",
       "      <td>canceled</td>\n",
       "      <td>14</td>\n",
       "      <td>US</td>\n",
       "      <td>1283.0</td>\n",
       "      <td>1283.0</td>\n",
       "      <td>19500.00</td>\n",
       "    </tr>\n",
       "  </tbody>\n",
       "</table>\n",
       "</div>"
      ],
      "text/plain": [
       "           ID                                               name  \\\n",
       "0  1000002330                    The Songs of Adelaide & Abullah   \n",
       "1  1000003930      Greeting From Earth: ZGAC Arts Capsule For ET   \n",
       "2  1000004038                                     Where is Hank?   \n",
       "3  1000007540  ToshiCapital Rekordz Needs Help to Complete Album   \n",
       "4  1000011046  Community Film Project: The Art of Neighborhoo...   \n",
       "\n",
       "         category main_category currency    deadline     goal  \\\n",
       "0          Poetry    Publishing      GBP  2015-10-09   1000.0   \n",
       "1  Narrative Film  Film & Video      USD  2017-11-01  30000.0   \n",
       "2  Narrative Film  Film & Video      USD  2013-02-26  45000.0   \n",
       "3           Music         Music      USD  2012-04-16   5000.0   \n",
       "4    Film & Video  Film & Video      USD  2015-08-29  19500.0   \n",
       "\n",
       "              launched  pledged     state  backers country  usd pledged  \\\n",
       "0  2015-08-11 12:12:28      0.0    failed        0      GB          0.0   \n",
       "1  2017-09-02 04:43:57   2421.0    failed       15      US        100.0   \n",
       "2  2013-01-12 00:20:50    220.0    failed        3      US        220.0   \n",
       "3  2012-03-17 03:24:11      1.0    failed        1      US          1.0   \n",
       "4  2015-07-04 08:35:03   1283.0  canceled       14      US       1283.0   \n",
       "\n",
       "   usd_pledged_real  usd_goal_real  \n",
       "0               0.0        1533.95  \n",
       "1            2421.0       30000.00  \n",
       "2             220.0       45000.00  \n",
       "3               1.0        5000.00  \n",
       "4            1283.0       19500.00  "
      ]
     },
     "metadata": {},
     "output_type": "display_data"
    }
   ],
   "source": [
    "df_kick = pd.read_csv(\"../../DAY5/4_kadai/kickstarter-projects/ks-projects-201801.csv\")\n",
    "\n",
    "# 表の表示\n",
    "display(df_kick.head())"
   ]
  },
  {
   "cell_type": "code",
   "execution_count": 7,
   "metadata": {},
   "outputs": [
    {
     "data": {
      "text/html": [
       "<div>\n",
       "<style scoped>\n",
       "    .dataframe tbody tr th:only-of-type {\n",
       "        vertical-align: middle;\n",
       "    }\n",
       "\n",
       "    .dataframe tbody tr th {\n",
       "        vertical-align: top;\n",
       "    }\n",
       "\n",
       "    .dataframe thead th {\n",
       "        text-align: right;\n",
       "    }\n",
       "</style>\n",
       "<table border=\"1\" class=\"dataframe\">\n",
       "  <thead>\n",
       "    <tr style=\"text-align: right;\">\n",
       "      <th></th>\n",
       "      <th>ID</th>\n",
       "      <th>goal</th>\n",
       "      <th>pledged</th>\n",
       "      <th>backers</th>\n",
       "      <th>usd pledged</th>\n",
       "      <th>usd_pledged_real</th>\n",
       "      <th>usd_goal_real</th>\n",
       "    </tr>\n",
       "  </thead>\n",
       "  <tbody>\n",
       "    <tr>\n",
       "      <th>count</th>\n",
       "      <td>3.786610e+05</td>\n",
       "      <td>3.786610e+05</td>\n",
       "      <td>3.786610e+05</td>\n",
       "      <td>378661.000000</td>\n",
       "      <td>3.748640e+05</td>\n",
       "      <td>3.786610e+05</td>\n",
       "      <td>3.786610e+05</td>\n",
       "    </tr>\n",
       "    <tr>\n",
       "      <th>mean</th>\n",
       "      <td>1.074731e+09</td>\n",
       "      <td>4.908079e+04</td>\n",
       "      <td>9.682979e+03</td>\n",
       "      <td>105.617476</td>\n",
       "      <td>7.036729e+03</td>\n",
       "      <td>9.058924e+03</td>\n",
       "      <td>4.545440e+04</td>\n",
       "    </tr>\n",
       "    <tr>\n",
       "      <th>std</th>\n",
       "      <td>6.190862e+08</td>\n",
       "      <td>1.183391e+06</td>\n",
       "      <td>9.563601e+04</td>\n",
       "      <td>907.185035</td>\n",
       "      <td>7.863975e+04</td>\n",
       "      <td>9.097334e+04</td>\n",
       "      <td>1.152950e+06</td>\n",
       "    </tr>\n",
       "    <tr>\n",
       "      <th>min</th>\n",
       "      <td>5.971000e+03</td>\n",
       "      <td>1.000000e-02</td>\n",
       "      <td>0.000000e+00</td>\n",
       "      <td>0.000000</td>\n",
       "      <td>0.000000e+00</td>\n",
       "      <td>0.000000e+00</td>\n",
       "      <td>1.000000e-02</td>\n",
       "    </tr>\n",
       "    <tr>\n",
       "      <th>25%</th>\n",
       "      <td>5.382635e+08</td>\n",
       "      <td>2.000000e+03</td>\n",
       "      <td>3.000000e+01</td>\n",
       "      <td>2.000000</td>\n",
       "      <td>1.698000e+01</td>\n",
       "      <td>3.100000e+01</td>\n",
       "      <td>2.000000e+03</td>\n",
       "    </tr>\n",
       "    <tr>\n",
       "      <th>50%</th>\n",
       "      <td>1.075276e+09</td>\n",
       "      <td>5.200000e+03</td>\n",
       "      <td>6.200000e+02</td>\n",
       "      <td>12.000000</td>\n",
       "      <td>3.947200e+02</td>\n",
       "      <td>6.243300e+02</td>\n",
       "      <td>5.500000e+03</td>\n",
       "    </tr>\n",
       "    <tr>\n",
       "      <th>75%</th>\n",
       "      <td>1.610149e+09</td>\n",
       "      <td>1.600000e+04</td>\n",
       "      <td>4.076000e+03</td>\n",
       "      <td>56.000000</td>\n",
       "      <td>3.034090e+03</td>\n",
       "      <td>4.050000e+03</td>\n",
       "      <td>1.550000e+04</td>\n",
       "    </tr>\n",
       "    <tr>\n",
       "      <th>max</th>\n",
       "      <td>2.147476e+09</td>\n",
       "      <td>1.000000e+08</td>\n",
       "      <td>2.033899e+07</td>\n",
       "      <td>219382.000000</td>\n",
       "      <td>2.033899e+07</td>\n",
       "      <td>2.033899e+07</td>\n",
       "      <td>1.663614e+08</td>\n",
       "    </tr>\n",
       "  </tbody>\n",
       "</table>\n",
       "</div>"
      ],
      "text/plain": [
       "                 ID          goal       pledged        backers   usd pledged  \\\n",
       "count  3.786610e+05  3.786610e+05  3.786610e+05  378661.000000  3.748640e+05   \n",
       "mean   1.074731e+09  4.908079e+04  9.682979e+03     105.617476  7.036729e+03   \n",
       "std    6.190862e+08  1.183391e+06  9.563601e+04     907.185035  7.863975e+04   \n",
       "min    5.971000e+03  1.000000e-02  0.000000e+00       0.000000  0.000000e+00   \n",
       "25%    5.382635e+08  2.000000e+03  3.000000e+01       2.000000  1.698000e+01   \n",
       "50%    1.075276e+09  5.200000e+03  6.200000e+02      12.000000  3.947200e+02   \n",
       "75%    1.610149e+09  1.600000e+04  4.076000e+03      56.000000  3.034090e+03   \n",
       "max    2.147476e+09  1.000000e+08  2.033899e+07  219382.000000  2.033899e+07   \n",
       "\n",
       "       usd_pledged_real  usd_goal_real  \n",
       "count      3.786610e+05   3.786610e+05  \n",
       "mean       9.058924e+03   4.545440e+04  \n",
       "std        9.097334e+04   1.152950e+06  \n",
       "min        0.000000e+00   1.000000e-02  \n",
       "25%        3.100000e+01   2.000000e+03  \n",
       "50%        6.243300e+02   5.500000e+03  \n",
       "75%        4.050000e+03   1.550000e+04  \n",
       "max        2.033899e+07   1.663614e+08  "
      ]
     },
     "execution_count": 7,
     "metadata": {},
     "output_type": "execute_result"
    }
   ],
   "source": [
    "#統計値の表示\n",
    "df_kick.describe()"
   ]
  },
  {
   "cell_type": "code",
   "execution_count": 8,
   "metadata": {},
   "outputs": [
    {
     "data": {
      "text/plain": [
       "ID                  378661\n",
       "name                378657\n",
       "category            378661\n",
       "main_category       378661\n",
       "currency            378661\n",
       "deadline            378661\n",
       "goal                378661\n",
       "launched            378661\n",
       "pledged             378661\n",
       "state               378661\n",
       "backers             378661\n",
       "country             378661\n",
       "usd pledged         374864\n",
       "usd_pledged_real    378661\n",
       "usd_goal_real       378661\n",
       "dtype: int64"
      ]
     },
     "metadata": {},
     "output_type": "display_data"
    }
   ],
   "source": [
    "#欠損値の確認\n",
    "display(df_kick.count())\n",
    "#nameとusd pledgedが欠損あり"
   ]
  },
  {
   "cell_type": "code",
   "execution_count": 9,
   "metadata": {},
   "outputs": [
    {
     "data": {
      "text/plain": [
       "ID                    int64\n",
       "name                 object\n",
       "category             object\n",
       "main_category        object\n",
       "currency             object\n",
       "deadline             object\n",
       "goal                float64\n",
       "launched             object\n",
       "pledged             float64\n",
       "state                object\n",
       "backers               int64\n",
       "country              object\n",
       "usd pledged         float64\n",
       "usd_pledged_real    float64\n",
       "usd_goal_real       float64\n",
       "dtype: object"
      ]
     },
     "metadata": {},
     "output_type": "display_data"
    }
   ],
   "source": [
    "#各列のデータタイプの確認\n",
    "display(df_kick.dtypes)"
   ]
  },
  {
   "cell_type": "markdown",
   "metadata": {},
   "source": [
    "■各データの内容確認  \n",
    "ID                   ただのID  \n",
    "name                 プロジェクト名  \n",
    "category             プロジェクトの詳細カテゴリ  \n",
    "main_category        プロジェクトの大カテゴリ  \n",
    "currency             使用される通貨  \n",
    "deadline             期限  \n",
    "goal                 出資調達目標、この金額になったら成功  \n",
    "launched             開始日  \n",
    "pledged              現在の出資金  \n",
    "state                プロジェクトの状態、結果、目的変数  \n",
    "backers              支援者数  \n",
    "country              プロジェクトが開かれた国  \n",
    "usd pledged          USドル変換した現在の出資金(real有り無しは計算方法の違い)    \n",
    "usd_pledged_real     USドル変換した現在の出資金  \n",
    "usd_goal_real        USドル変換した目標金額  \n",
    "\n",
    "■プロジェクト開始後にわかるデータ  \n",
    "pledged              現在の出資金  \n",
    "state                プロジェクトの状態、結果、目的変数  \n",
    "backers              支援者数  \n",
    "usd pledged          USドル変換した現在の出資金    \n",
    "usd_pledged_real     USドル変換した現在の出資金  \n"
   ]
  },
  {
   "cell_type": "code",
   "execution_count": 10,
   "metadata": {},
   "outputs": [],
   "source": [
    "#不要そうな項目を削除\n",
    "df_kick = df_kick.drop(\"ID\", axis=1)\n",
    "df_kick = df_kick.drop(\"name\", axis=1)\n",
    "df_kick = df_kick.drop(\"category\", axis=1)\n",
    "\n",
    "#プロジェクトスタート後にわかる説明変数は削除\n",
    "df_kick = df_kick.drop(\"pledged\", axis=1)\n",
    "df_kick = df_kick.drop(\"backers\", axis=1)\n",
    "df_kick = df_kick.drop(\"usd pledged\", axis=1)\n",
    "df_kick = df_kick.drop(\"usd_pledged_real\", axis=1)\n",
    "\n",
    "#goalとusd_goalは同じ数字を変換しただけのもの。単位がそろっているほうがいいのでgoalは使用しない。\n",
    "df_kick = df_kick.drop(\"goal\", axis=1)"
   ]
  },
  {
   "cell_type": "code",
   "execution_count": 11,
   "metadata": {},
   "outputs": [],
   "source": [
    "#開始日、終了日から期間を求める。\n",
    "df_kick['deadline'] = pd.to_datetime(df_kick['deadline'], errors = 'coerce')\n",
    "df_kick['launched'] = pd.to_datetime(df_kick['launched'], errors = 'coerce')\n",
    "\n",
    "df_kick['period'] = (df_kick['deadline'] - df_kick['launched']).dt.days\n",
    "\n",
    "#不要になったdeadlineとlaunchedの列を削除します。\n",
    "df_kick = df_kick.drop(['deadline', 'launched'], axis=1)"
   ]
  },
  {
   "cell_type": "code",
   "execution_count": 12,
   "metadata": {},
   "outputs": [
    {
     "data": {
      "text/plain": [
       "failed        197719\n",
       "successful    133956\n",
       "canceled       38779\n",
       "undefined       3562\n",
       "live            2799\n",
       "suspended       1846\n",
       "Name: state, dtype: int64"
      ]
     },
     "execution_count": 12,
     "metadata": {},
     "output_type": "execute_result"
    }
   ],
   "source": [
    "#目的変数となりうるstateの要素数確認\n",
    "df_kick['state'].value_counts()"
   ]
  },
  {
   "cell_type": "code",
   "execution_count": 13,
   "metadata": {},
   "outputs": [
    {
     "data": {
      "text/plain": [
       "([<matplotlib.patches.Wedge at 0x28530dfa630>,\n",
       "  <matplotlib.patches.Wedge at 0x28530dfad30>,\n",
       "  <matplotlib.patches.Wedge at 0x28530e074a8>,\n",
       "  <matplotlib.patches.Wedge at 0x28530e07c50>,\n",
       "  <matplotlib.patches.Wedge at 0x28530e11438>,\n",
       "  <matplotlib.patches.Wedge at 0x28530e11be0>],\n",
       " [Text(-0.0764938,1.09734,'failed'),\n",
       "  Text(-0.346261,-1.04408,'successful'),\n",
       "  Text(0.986675,-0.486285,'canceled'),\n",
       "  Text(1.09375,-0.117068,'undefined'),\n",
       "  Text(1.09841,-0.0592097,'live'),\n",
       "  Text(1.09987,-0.0168463,'suspended')],\n",
       " [Text(-0.0417239,0.598548,'52.2%'),\n",
       "  Text(-0.188869,-0.569498,'35.4%'),\n",
       "  Text(0.538186,-0.265246,'10.2%'),\n",
       "  Text(0.596592,-0.0638554,'0.9%'),\n",
       "  Text(0.59913,-0.0322962,'0.7%'),\n",
       "  Text(0.59993,-0.0091889,'0.5%')])"
      ]
     },
     "execution_count": 13,
     "metadata": {},
     "output_type": "execute_result"
    },
    {
     "data": {
      "image/png": "[encoded data removed]",
      "text/plain": [
       "<matplotlib.figure.Figure at 0x2852e9b6470>"
      ]
     },
     "metadata": {},
     "output_type": "display_data"
    }
   ],
   "source": [
    "#要素の割合を円グラフで表示\n",
    "plt.pie(df_kick['state'].value_counts(),autopct=\"%.1f%%\", labels=df_kick['state'].value_counts().keys())"
   ]
  },
  {
   "cell_type": "code",
   "execution_count": 14,
   "metadata": {},
   "outputs": [],
   "source": [
    "#ロジスティック回帰は2分割なので成功と失敗のみを抽出\n",
    "df_kick_success = df_kick[df_kick['state']=='successful']\n",
    "df_kick_failed =  df_kick[df_kick['state']=='failed']\n",
    "\n",
    "#2つのデータを縦結合\n",
    "df_kick_status = pd.concat([df_kick_success,df_kick_failed])\n",
    "\n",
    "#カテゴリ変数を数値に置き換える\n",
    "le = LabelEncoder()\n",
    "#state\n",
    "le = le.fit(df_kick_status['state'])\n",
    "df_kick_status['state'] = le.transform(df_kick_status['state'])"
   ]
  },
  {
   "cell_type": "code",
   "execution_count": 15,
   "metadata": {},
   "outputs": [],
   "source": [
    "#カテゴリデータのダミー数値化\n",
    "df_kick_status = pd.get_dummies(df_kick_status)"
   ]
  },
  {
   "cell_type": "code",
   "execution_count": 16,
   "metadata": {},
   "outputs": [
    {
     "data": {
      "text/plain": [
       "state                         331675\n",
       "usd_goal_real                 331675\n",
       "period                        331675\n",
       "main_category_Art             331675\n",
       "main_category_Comics          331675\n",
       "main_category_Crafts          331675\n",
       "main_category_Dance           331675\n",
       "main_category_Design          331675\n",
       "main_category_Fashion         331675\n",
       "main_category_Film & Video    331675\n",
       "main_category_Food            331675\n",
       "main_category_Games           331675\n",
       "main_category_Journalism      331675\n",
       "main_category_Music           331675\n",
       "main_category_Photography     331675\n",
       "main_category_Publishing      331675\n",
       "main_category_Technology      331675\n",
       "main_category_Theater         331675\n",
       "currency_AUD                  331675\n",
       "currency_CAD                  331675\n",
       "currency_CHF                  331675\n",
       "currency_DKK                  331675\n",
       "currency_EUR                  331675\n",
       "currency_GBP                  331675\n",
       "currency_HKD                  331675\n",
       "currency_JPY                  331675\n",
       "currency_MXN                  331675\n",
       "currency_NOK                  331675\n",
       "currency_NZD                  331675\n",
       "currency_SEK                  331675\n",
       "currency_SGD                  331675\n",
       "currency_USD                  331675\n",
       "country_AT                    331675\n",
       "country_AU                    331675\n",
       "country_BE                    331675\n",
       "country_CA                    331675\n",
       "country_CH                    331675\n",
       "country_DE                    331675\n",
       "country_DK                    331675\n",
       "country_ES                    331675\n",
       "country_FR                    331675\n",
       "country_GB                    331675\n",
       "country_HK                    331675\n",
       "country_IE                    331675\n",
       "country_IT                    331675\n",
       "country_JP                    331675\n",
       "country_LU                    331675\n",
       "country_MX                    331675\n",
       "country_N,0\"                  331675\n",
       "country_NL                    331675\n",
       "country_NO                    331675\n",
       "country_NZ                    331675\n",
       "country_SE                    331675\n",
       "country_SG                    331675\n",
       "country_US                    331675\n",
       "dtype: int64"
      ]
     },
     "metadata": {},
     "output_type": "display_data"
    }
   ],
   "source": [
    "#データの確認\n",
    "display(df_kick_status.count())"
   ]
  },
  {
   "cell_type": "code",
   "execution_count": 17,
   "metadata": {},
   "outputs": [
    {
     "name": "stdout",
     "output_type": "stream",
     "text": [
      "W0= 2633.667\n",
      "w1 = -0.205\n",
      "w2 = -134.699\n",
      "w3 = -61.769\n",
      "w4 = 598.543\n",
      "w5 = -705.695\n",
      "w6 = 278.162\n",
      "w7 = 1081.198\n",
      "w8 = -811.367\n",
      "w9 = 1114.399\n",
      "w10 = -366.092\n",
      "w11 = 1110.717\n",
      "w12 = -258.267\n",
      "w13 = 1429.664\n",
      "w14 = -342.932\n",
      "w15 = -1139.692\n",
      "w16 = -148.374\n",
      "w17 = 855.173\n",
      "w18 = -104.020\n",
      "w19 = -25.168\n",
      "w20 = 5.226\n",
      "w21 = 16.888\n",
      "w22 = -183.244\n",
      "w23 = 646.347\n",
      "w24 = 23.722\n",
      "w25 = 0.317\n",
      "w26 = -84.518\n",
      "w27 = -6.023\n",
      "w28 = -8.286\n",
      "w29 = 2.298\n",
      "w30 = 10.014\n",
      "w31 = 2340.115\n",
      "w32 = -5.388\n",
      "w33 = -103.603\n",
      "w34 = -7.197\n",
      "w35 = -26.032\n",
      "w36 = 5.226\n",
      "w37 = -51.102\n",
      "w38 = 15.437\n",
      "w39 = -57.059\n",
      "w40 = 60.135\n",
      "w41 = 643.455\n",
      "w42 = 23.722\n",
      "w43 = -7.899\n",
      "w44 = -88.951\n",
      "w45 = 0.317\n",
      "w46 = 2.470\n",
      "w47 = -84.518\n",
      "w48 = 9.260\n",
      "w49 = -26.245\n",
      "w50 = -6.011\n",
      "w51 = -8.286\n",
      "w52 = 2.479\n",
      "w53 = 10.014\n",
      "w54 = 2333.445\n"
     ]
    }
   ],
   "source": [
    "#取り敢えず何も考えずすべての変数で学習\n",
    "y = df_kick_status['state'].values\n",
    "X = df_kick_status.drop('state', axis=1).values\n",
    "clf = SGDClassifier(loss='log', penalty='none', max_iter=10000, fit_intercept=True, random_state=1234)\n",
    "clf.fit(X, y)\n",
    "\n",
    "# 重みを取得して表示\n",
    "w0 = clf.intercept_[0]\n",
    "print('W0= {:.3f}'.format(w0))\n",
    "for i in range(len(clf.coef_[0])):\n",
    "    print('w{} = {:.3f}'.format(i+1, clf.coef_[0, i]))"
   ]
  },
  {
   "cell_type": "markdown",
   "metadata": {},
   "source": [
    "■識別精度を確認"
   ]
  },
  {
   "cell_type": "code",
   "execution_count": 18,
   "metadata": {},
   "outputs": [
    {
     "name": "stdout",
     "output_type": "stream",
     "text": [
      "対数尤度 = -14.240\n",
      "正答率（Accuracy） = 58.771%\n",
      "適合率（Precision） = 71.708%\n",
      "再現率（Recall） = 50.934%\n",
      "F1値（F1-score） = 59.562%\n"
     ]
    }
   ],
   "source": [
    "#混同行列\n",
    "# ラベルを予測\n",
    "y_pred = clf.predict(X)\n",
    "\n",
    "# 対数尤度を表示\n",
    "print('対数尤度 = {:.3f}'.format(- log_loss(y, y_pred)))\n",
    "\n",
    "# 正答率を計算\n",
    "accuracy =  accuracy_score(y, y_pred)\n",
    "print('正答率（Accuracy） = {:.3f}%'.format(100 * accuracy))\n",
    "\n",
    "# Precision, Recall, F1-scoreを計算\n",
    "precision, recall, f1_score, _ = precision_recall_fscore_support(y, y_pred)\n",
    "\n",
    "# カテゴリ「2000万以上」に関するPrecision, Recall, F1-scoreを表示\n",
    "print('適合率（Precision） = {:.3f}%'.format(100 * precision[0]))\n",
    "print('再現率（Recall） = {:.3f}%'.format(100 * recall[0]))\n",
    "print('F1値（F1-score） = {:.3f}%'.format(100 * f1_score[0]))"
   ]
  },
  {
   "cell_type": "markdown",
   "metadata": {},
   "source": [
    "正答率は58%と低い。  "
   ]
  },
  {
   "cell_type": "code",
   "execution_count": 19,
   "metadata": {},
   "outputs": [
    {
     "data": {
      "text/html": [
       "<div>\n",
       "<style scoped>\n",
       "    .dataframe tbody tr th:only-of-type {\n",
       "        vertical-align: middle;\n",
       "    }\n",
       "\n",
       "    .dataframe tbody tr th {\n",
       "        vertical-align: top;\n",
       "    }\n",
       "\n",
       "    .dataframe thead th {\n",
       "        text-align: right;\n",
       "    }\n",
       "</style>\n",
       "<table border=\"1\" class=\"dataframe\">\n",
       "  <thead>\n",
       "    <tr style=\"text-align: right;\">\n",
       "      <th></th>\n",
       "      <th>予測 = failed</th>\n",
       "      <th>予測 = successful</th>\n",
       "    </tr>\n",
       "  </thead>\n",
       "  <tbody>\n",
       "    <tr>\n",
       "      <th>正解 = failed</th>\n",
       "      <td>100707</td>\n",
       "      <td>97012</td>\n",
       "    </tr>\n",
       "    <tr>\n",
       "      <th>正解 = successful</th>\n",
       "      <td>39733</td>\n",
       "      <td>94223</td>\n",
       "    </tr>\n",
       "  </tbody>\n",
       "</table>\n",
       "</div>"
      ],
      "text/plain": [
       "                 予測 = failed  予測 = successful\n",
       "正解 = failed           100707            97012\n",
       "正解 = successful        39733            94223"
      ]
     },
     "execution_count": 19,
     "metadata": {},
     "output_type": "execute_result"
    }
   ],
   "source": [
    "# 予測値と正解のクロス集計（混同行列）\n",
    "conf_mat = confusion_matrix(y, y_pred)\n",
    "conf_mat = pd.DataFrame(conf_mat, \n",
    "                        index=['正解 = failed', '正解 = successful'], \n",
    "                        columns=['予測 = failed', '予測 = successful'])\n",
    "conf_mat"
   ]
  },
  {
   "cell_type": "code",
   "execution_count": null,
   "metadata": {},
   "outputs": [],
   "source": []
  },
  {
   "cell_type": "code",
   "execution_count": null,
   "metadata": {},
   "outputs": [],
   "source": []
  },
  {
   "cell_type": "markdown",
   "metadata": {},
   "source": [
    "## ↑ここまでDAY1の内容"
   ]
  },
  {
   "cell_type": "markdown",
   "metadata": {},
   "source": [
    "## ↓ここからDAY2の内容"
   ]
  },
  {
   "cell_type": "markdown",
   "metadata": {},
   "source": [
    "## ホールドアウト法と標準化"
   ]
  },
  {
   "cell_type": "code",
   "execution_count": 20,
   "metadata": {},
   "outputs": [],
   "source": [
    "#ホールドアウト法\n",
    "y = df_kick_status['state'].values\n",
    "X = df_kick_status.drop('state', axis=1).values\n",
    "\n",
    "# 全データのうち、30%をテストデータにする\n",
    "test_size = 0.3\n",
    "\n",
    "X_train, X_test, y_train, y_test = train_test_split(X, y, test_size=test_size, random_state=1234) # ホールドアウト法を実行（テストデータはランダム選択）"
   ]
  },
  {
   "cell_type": "code",
   "execution_count": 21,
   "metadata": {},
   "outputs": [],
   "source": [
    "#標準化\n",
    "stdsc = StandardScaler()\n",
    "X_train_stand = stdsc.fit_transform(X_train)\n",
    "X_test_stand = stdsc.transform(X_test)"
   ]
  },
  {
   "cell_type": "code",
   "execution_count": 22,
   "metadata": {},
   "outputs": [
    {
     "data": {
      "text/plain": [
       "SGDClassifier(alpha=0.0001, average=False, class_weight=None, epsilon=0.1,\n",
       "       eta0=0.0, fit_intercept=True, l1_ratio=0.15,\n",
       "       learning_rate='optimal', loss='log', max_iter=10000, n_iter=None,\n",
       "       n_jobs=1, penalty='none', power_t=0.5, random_state=1234,\n",
       "       shuffle=True, tol=None, verbose=0, warm_start=False)"
      ]
     },
     "execution_count": 22,
     "metadata": {},
     "output_type": "execute_result"
    }
   ],
   "source": [
    "# 標準化した学習用データを使ってロジスティック回帰モデルを学習\n",
    "clf = SGDClassifier(loss='log', penalty='none', max_iter=10000, fit_intercept=True, random_state=1234)\n",
    "clf.fit(X_train_stand, y_train)"
   ]
  },
  {
   "cell_type": "markdown",
   "metadata": {},
   "source": [
    "## 訓練誤差"
   ]
  },
  {
   "cell_type": "code",
   "execution_count": 23,
   "metadata": {},
   "outputs": [
    {
     "name": "stdout",
     "output_type": "stream",
     "text": [
      "MAE = 0.354\n"
     ]
    }
   ],
   "source": [
    "# 学習用データに対する予測を実行\n",
    "y_pred_train = clf.predict(X_train_stand)\n",
    "\n",
    "# 学習データに対するMAEを計算（訓練誤差の評価）\n",
    "mae = mean_absolute_error(y_train, y_pred_train)\n",
    "print(\"MAE = %s\"%round(mae,3) )"
   ]
  },
  {
   "cell_type": "markdown",
   "metadata": {},
   "source": [
    "## 汎化誤差"
   ]
  },
  {
   "cell_type": "code",
   "execution_count": 24,
   "metadata": {},
   "outputs": [
    {
     "name": "stdout",
     "output_type": "stream",
     "text": [
      "MAE = 0.354\n"
     ]
    }
   ],
   "source": [
    "# テストデータに対する予測を実行\n",
    "y_pred_test = clf.predict(X_test_stand)\n",
    "\n",
    "# テストデータに対するMAEを計算（汎化誤差の評価）\n",
    "mae = mean_absolute_error(y_test, y_pred_test)\n",
    "print(\"MAE = %s\"%round(mae,3) )"
   ]
  },
  {
   "cell_type": "markdown",
   "metadata": {},
   "source": [
    "訓練誤差と汎化誤差の値に差がないので過学習は起きていない。  \n",
    "↑結果が良すぎる。何か間違えている。"
   ]
  },
  {
   "cell_type": "markdown",
   "metadata": {},
   "source": [
    "## （残件）正則化\n",
    "過学習対策としては今回行わない。  \n",
    "パラメータ数削減として使用したいが使い方がわからずうまくいかなかったのでいったん削除。  "
   ]
  },
  {
   "cell_type": "markdown",
   "metadata": {},
   "source": [
    "## 標準化したパラメータでモデル再作成し、評価"
   ]
  },
  {
   "cell_type": "code",
   "execution_count": 25,
   "metadata": {},
   "outputs": [
    {
     "name": "stdout",
     "output_type": "stream",
     "text": [
      "W0= -2.648\n",
      "w1 = -16.656\n",
      "w2 = -0.224\n",
      "w3 = 0.023\n",
      "w4 = 0.116\n",
      "w5 = -0.113\n",
      "w6 = 0.095\n",
      "w7 = 0.049\n",
      "w8 = -0.136\n",
      "w9 = 0.049\n",
      "w10 = -0.123\n",
      "w11 = 0.060\n",
      "w12 = -0.082\n",
      "w13 = 0.153\n",
      "w14 = -0.057\n",
      "w15 = -0.096\n",
      "w16 = -0.128\n",
      "w17 = 0.155\n",
      "w18 = -0.039\n",
      "w19 = 0.762\n",
      "w20 = 0.107\n",
      "w21 = 9.357\n",
      "w22 = -0.199\n",
      "w23 = 0.403\n",
      "w24 = 0.102\n",
      "w25 = -109.261\n",
      "w26 = 0.143\n",
      "w27 = 0.051\n",
      "w28 = 0.149\n",
      "w29 = -0.160\n",
      "w30 = 0.094\n",
      "w31 = 0.441\n",
      "w32 = 0.204\n",
      "w33 = 0.691\n",
      "w34 = 0.224\n",
      "w35 = 0.140\n",
      "w36 = 0.107\n",
      "w37 = 0.563\n",
      "w38 = -9.078\n",
      "w39 = 0.410\n",
      "w40 = 0.522\n",
      "w41 = 1.019\n",
      "w42 = 0.102\n",
      "w43 = 0.255\n",
      "w44 = 0.433\n",
      "w45 = -109.261\n",
      "w46 = 0.078\n",
      "w47 = 0.143\n",
      "w48 = 0.101\n",
      "w49 = 0.467\n",
      "w50 = 0.138\n",
      "w51 = 0.149\n",
      "w52 = 0.480\n",
      "w53 = 0.094\n",
      "w54 = 1.630\n"
     ]
    }
   ],
   "source": [
    "#取り敢えず何も考えずすべての変数で学習\n",
    "y = df_kick_status['state'].values\n",
    "X = df_kick_status.drop('state', axis=1).values\n",
    "#標準化\n",
    "stdsc = StandardScaler()\n",
    "X_stand = stdsc.fit_transform(X)\n",
    "\n",
    "clf = SGDClassifier(loss='log', penalty='none', max_iter=10000, fit_intercept=True, random_state=1234)\n",
    "clf.fit(X_stand, y)\n",
    "\n",
    "# 重みを取得して表示\n",
    "w0 = clf.intercept_[0]\n",
    "print('W0= {:.3f}'.format(w0))\n",
    "for i in range(len(clf.coef_[0])):\n",
    "    print('w{} = {:.3f}'.format(i+1, clf.coef_[0, i]))"
   ]
  },
  {
   "cell_type": "markdown",
   "metadata": {},
   "source": [
    "### 要検討\n",
    "この時点で重みの少ないものは削除してもいい？  \n",
    "L1正則化した後でないと決していいか判断できない？  "
   ]
  },
  {
   "cell_type": "code",
   "execution_count": 26,
   "metadata": {},
   "outputs": [
    {
     "name": "stdout",
     "output_type": "stream",
     "text": [
      "対数尤度 = -12.212\n",
      "正答率（Accuracy） = 64.644%\n",
      "適合率（Precision） = 66.667%\n",
      "再現率（Recall） = 81.378%\n",
      "F1値（F1-score） = 73.292%\n"
     ]
    }
   ],
   "source": [
    "#混同行列\n",
    "# ラベルを予測\n",
    "y_pred = clf.predict(X_stand)\n",
    "\n",
    "# 対数尤度を表示\n",
    "print('対数尤度 = {:.3f}'.format(- log_loss(y, y_pred)))\n",
    "\n",
    "# 正答率を計算\n",
    "accuracy =  accuracy_score(y, y_pred)\n",
    "print('正答率（Accuracy） = {:.3f}%'.format(100 * accuracy))\n",
    "\n",
    "# Precision, Recall, F1-scoreを計算\n",
    "precision, recall, f1_score, _ = precision_recall_fscore_support(y, y_pred)\n",
    "\n",
    "# カテゴリ「2000万以上」に関するPrecision, Recall, F1-scoreを表示\n",
    "print('適合率（Precision） = {:.3f}%'.format(100 * precision[0]))\n",
    "print('再現率（Recall） = {:.3f}%'.format(100 * recall[0]))\n",
    "print('F1値（F1-score） = {:.3f}%'.format(100 * f1_score[0]))"
   ]
  },
  {
   "cell_type": "code",
   "execution_count": 27,
   "metadata": {},
   "outputs": [
    {
     "data": {
      "text/html": [
       "<div>\n",
       "<style scoped>\n",
       "    .dataframe tbody tr th:only-of-type {\n",
       "        vertical-align: middle;\n",
       "    }\n",
       "\n",
       "    .dataframe tbody tr th {\n",
       "        vertical-align: top;\n",
       "    }\n",
       "\n",
       "    .dataframe thead th {\n",
       "        text-align: right;\n",
       "    }\n",
       "</style>\n",
       "<table border=\"1\" class=\"dataframe\">\n",
       "  <thead>\n",
       "    <tr style=\"text-align: right;\">\n",
       "      <th></th>\n",
       "      <th>予測 = failed</th>\n",
       "      <th>予測 = successful</th>\n",
       "    </tr>\n",
       "  </thead>\n",
       "  <tbody>\n",
       "    <tr>\n",
       "      <th>正解 = failed</th>\n",
       "      <td>160900</td>\n",
       "      <td>36819</td>\n",
       "    </tr>\n",
       "    <tr>\n",
       "      <th>正解 = successful</th>\n",
       "      <td>80449</td>\n",
       "      <td>53507</td>\n",
       "    </tr>\n",
       "  </tbody>\n",
       "</table>\n",
       "</div>"
      ],
      "text/plain": [
       "                 予測 = failed  予測 = successful\n",
       "正解 = failed           160900            36819\n",
       "正解 = successful        80449            53507"
      ]
     },
     "execution_count": 27,
     "metadata": {},
     "output_type": "execute_result"
    }
   ],
   "source": [
    "# 予測値と正解のクロス集計（混同行列）\n",
    "conf_mat = confusion_matrix(y, y_pred)\n",
    "conf_mat = pd.DataFrame(conf_mat, \n",
    "                        index=['正解 = failed', '正解 = successful'], \n",
    "                        columns=['予測 = failed', '予測 = successful'])\n",
    "conf_mat"
   ]
  },
  {
   "cell_type": "markdown",
   "metadata": {},
   "source": [
    "### 標準化した結果\n",
    "標準化を行うことで以下のように性能が上がった。  \n",
    "対数尤度           = -14.240　⇒　-12.212  \n",
    "正答率（Accuracy） = 58.771%  ⇒  64.644%  \n",
    "適合率（Precision）= 71.708%  ⇒  66.667%  \n",
    "再現率（Recall）   = 50.934%  ⇒  81.378%  \n",
    "F1値（F1-score）   = 59.562%  ⇒  73.292%  \n",
    "\n",
    "AccuracyとRecallが上がって、Precisionが少し下がった。  \n",
    "投資目線で考えると  \n",
    "Precision = 成功するプロジェクトの取りこぼしをしない率  \n",
    "Recall = 投資したプロジェクトの成功率  \n",
    "\n",
    "負けない投資をするのであればRecallが大きいほうが良い。  \n",
    "ただ、投資金額は一律ではないので、大きい投資額のプロジェクトばかり予測を外していたら損をする。  \n",
    "この辺りはリスク回避で外れ値となるような大きい金額のプロジェクトは失敗と最初から予測するなど必要かもしれない。  "
   ]
  },
  {
   "cell_type": "markdown",
   "metadata": {},
   "source": [
    "## SVC\n",
    "時間切れでできず。次回実装。"
   ]
  },
  {
   "cell_type": "code",
   "execution_count": null,
   "metadata": {},
   "outputs": [],
   "source": []
  },
  {
   "cell_type": "code",
   "execution_count": null,
   "metadata": {},
   "outputs": [],
   "source": []
  },
  {
   "cell_type": "code",
   "execution_count": null,
   "metadata": {},
   "outputs": [],
   "source": []
  }
 ],
 "metadata": {
  "kernelspec": {
   "display_name": "Python 3",
   "language": "python",
   "name": "python3"
  },
  "language_info": {
   "codemirror_mode": {
    "name": "ipython",
    "version": 3
   },
   "file_extension": ".py",
   "mimetype": "text/x-python",
   "name": "python",
   "nbconvert_exporter": "python",
   "pygments_lexer": "ipython3",
   "version": "3.6.4"
  }
 },
 "nbformat": 4,
 "nbformat_minor": 2
}
